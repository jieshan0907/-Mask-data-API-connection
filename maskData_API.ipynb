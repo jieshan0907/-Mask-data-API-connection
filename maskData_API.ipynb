{
  "nbformat": 4,
  "nbformat_minor": 0,
  "metadata": {
    "colab": {
      "provenance": [],
      "authorship_tag": "ABX9TyPAXYXrPXS50g3G6MzOvqSi",
      "include_colab_link": true
    },
    "kernelspec": {
      "name": "python3",
      "display_name": "Python 3"
    },
    "language_info": {
      "name": "python"
    }
  },
  "cells": [
    {
      "cell_type": "markdown",
      "metadata": {
        "id": "view-in-github",
        "colab_type": "text"
      },
      "source": [
        "<a href=\"https://colab.research.google.com/github/jieshan0907/MaskDataAPIconnection/blob/main/maskData_API.ipynb\" target=\"_parent\"><img src=\"https://colab.research.google.com/assets/colab-badge.svg\" alt=\"Open In Colab\"/></a>"
      ]
    },
    {
      "cell_type": "code",
      "execution_count": null,
      "metadata": {
        "id": "Os-wdX1-4ECD"
      },
      "outputs": [],
      "source": [
        "import requests\n",
        "import json\n",
        "\n",
        "\n",
        "# 利用 requests 對 API 來源發送一個請求\n",
        "url = 'https://raw.githubusercontent.com/kiang/pharmacies/master/json/points.json'\n",
        "response = requests.get(url)\n",
        "\n",
        "# 將請求回應的內容存成一個字串格式\n",
        "d = response.text\n",
        "\n",
        "# 將長得像 json 格式的字串解析成字典或列表\n",
        "data = json.loads(d)\n",
        "\n",
        "print(data)"
      ]
    }
  ]
}