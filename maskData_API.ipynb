{
  "nbformat": 4,
  "nbformat_minor": 0,
  "metadata": {
    "colab": {
      "provenance": [],
      "authorship_tag": "ABX9TyMR2ZDPzzN+IAda4P88Dtgy",
      "include_colab_link": true
    },
    "kernelspec": {
      "name": "python3",
      "display_name": "Python 3"
    },
    "language_info": {
      "name": "python"
    }
  },
  "cells": [
    {
      "cell_type": "markdown",
      "metadata": {
        "id": "view-in-github",
        "colab_type": "text"
      },
      "source": [
        "<a href=\"https://colab.research.google.com/github/jieshan0907/MaskDataAPIconnection/blob/main/maskData_API.ipynb\" target=\"_parent\"><img src=\"https://colab.research.google.com/assets/colab-badge.svg\" alt=\"Open In Colab\"/></a>"
      ]
    },
    {
      "cell_type": "code",
      "execution_count": 4,
      "metadata": {
        "colab": {
          "base_uri": "https://localhost:8080/"
        },
        "id": "Os-wdX1-4ECD",
        "outputId": "e473f251-d4ec-442d-af8d-41c30d75d3da"
      },
      "outputs": [
        {
          "output_type": "stream",
          "name": "stdout",
          "text": [
            "INSERT INTO masks VALUES ('新北市', 670270, '2024-05-02 21:54:20.359563')\n",
            "INSERT INTO masks VALUES ('臺中市', 536710, '2024-05-02 21:54:20.369484')\n",
            "INSERT INTO masks VALUES ('高雄市', 424170, '2024-05-02 21:54:20.382929')\n",
            "INSERT INTO masks VALUES ('臺南市', 393900, '2024-05-02 21:54:20.391233')\n",
            "INSERT INTO masks VALUES ('桃園市', 331940, '2024-05-02 21:54:20.399994')\n",
            "INSERT INTO masks VALUES ('臺北市', 322490, '2024-05-02 21:54:20.408490')\n",
            "INSERT INTO masks VALUES ('彰化縣', 219400, '2024-05-02 21:54:20.416444')\n",
            "INSERT INTO masks VALUES ('雲林縣', 196990, '2024-05-02 21:54:20.424027')\n",
            "INSERT INTO masks VALUES ('屏東縣', 184250, '2024-05-02 21:54:20.432000')\n",
            "INSERT INTO masks VALUES ('苗栗縣', 131080, '2024-05-02 21:54:20.439816')\n",
            "INSERT INTO masks VALUES ('嘉義縣', 113180, '2024-05-02 21:54:20.447796')\n",
            "INSERT INTO masks VALUES ('嘉義市', 107840, '2024-05-02 21:54:20.455860')\n",
            "INSERT INTO masks VALUES ('宜蘭縣', 106900, '2024-05-02 21:54:20.464459')\n",
            "INSERT INTO masks VALUES ('南投縣', 91240, '2024-05-02 21:54:20.473151')\n",
            "INSERT INTO masks VALUES ('基隆市', 80100, '2024-05-02 21:54:20.481281')\n",
            "INSERT INTO masks VALUES ('', 69210, '2024-05-02 21:54:20.489364')\n",
            "INSERT INTO masks VALUES ('花蓮縣', 57330, '2024-05-02 21:54:20.497514')\n",
            "INSERT INTO masks VALUES ('新竹縣', 51350, '2024-05-02 21:54:20.506456')\n",
            "INSERT INTO masks VALUES ('新竹市', 45630, '2024-05-02 21:54:20.514548')\n",
            "INSERT INTO masks VALUES ('臺東縣', 28510, '2024-05-02 21:54:20.522226')\n",
            "INSERT INTO masks VALUES ('金門縣', 15510, '2024-05-02 21:54:20.530117')\n",
            "INSERT INTO masks VALUES ('澎湖縣', 12600, '2024-05-02 21:54:20.538227')\n",
            "INSERT INTO masks VALUES ('連江縣', 7930, '2024-05-02 21:54:20.546217')\n",
            "[('新北市', '670270', '2024-05-02 21:54:20.359563'), ('臺中市', '536710', '2024-05-02 21:54:20.369484'), ('高雄市', '424170', '2024-05-02 21:54:20.382929'), ('臺南市', '393900', '2024-05-02 21:54:20.391233'), ('桃園市', '331940', '2024-05-02 21:54:20.399994'), ('臺北市', '322490', '2024-05-02 21:54:20.408490'), ('彰化縣', '219400', '2024-05-02 21:54:20.416444'), ('雲林縣', '196990', '2024-05-02 21:54:20.424027'), ('屏東縣', '184250', '2024-05-02 21:54:20.432000'), ('苗栗縣', '131080', '2024-05-02 21:54:20.439816'), ('嘉義縣', '113180', '2024-05-02 21:54:20.447796'), ('嘉義市', '107840', '2024-05-02 21:54:20.455860'), ('宜蘭縣', '106900', '2024-05-02 21:54:20.464459'), ('南投縣', '91240', '2024-05-02 21:54:20.473151'), ('基隆市', '80100', '2024-05-02 21:54:20.481281'), ('', '69210', '2024-05-02 21:54:20.489364'), ('花蓮縣', '57330', '2024-05-02 21:54:20.497514'), ('新竹縣', '51350', '2024-05-02 21:54:20.506456'), ('新竹市', '45630', '2024-05-02 21:54:20.514548'), ('臺東縣', '28510', '2024-05-02 21:54:20.522226'), ('金門縣', '15510', '2024-05-02 21:54:20.530117'), ('澎湖縣', '12600', '2024-05-02 21:54:20.538227'), ('連江縣', '7930', '2024-05-02 21:54:20.546217')]\n"
          ]
        }
      ],
      "source": [
        "# -*- coding: utf-8 -*-\n",
        "\"\"\"\n",
        "Created on Fri May  3 04:04:24 2024\n",
        "\n",
        "@author: s9513\n",
        "\"\"\"\n",
        "\n",
        "import sqlite3\n",
        "import datetime\n",
        "import requests\n",
        "import json\n",
        "\n",
        "conn = sqlite3.connect('example.db')\n",
        "c = conn.cursor()\n",
        "# 新增且清空資料表\n",
        "c.execute('''CREATE TABLE IF NOT EXISTS masks\n",
        "          (city text, mask_adult text, createdAt datetime)\n",
        "          ''')\n",
        "c.execute('''DELETE FROM masks''')\n",
        "conn.commit()\n",
        "\n",
        "# 新增資料\n",
        "url = 'https://raw.githubusercontent.com/kiang/pharmacies/master/json/points.json'\n",
        "response = requests.get(url)\n",
        "d = response.text\n",
        "data = json.loads(d)\n",
        "\n",
        "mask_count = {}\n",
        "\n",
        "for d in data['features']:\n",
        "    county = d['properties']['county']\n",
        "    count = d['properties']['mask_adult']\n",
        "    if county not in mask_count:\n",
        "        mask_count[county] = 0\n",
        "    mask_count[county] += count\n",
        "\n",
        "mask_count = dict(sorted(mask_count.items(), key=lambda item: item[1]\n",
        "                        ,reverse = True))\n",
        "\n",
        "for d in mask_count:\n",
        "    city = d\n",
        "    count = mask_count[d]\n",
        "    t = datetime.datetime.now()\n",
        "    print(f\"INSERT INTO masks VALUES ('{city}', {count}, '{t}')\")\n",
        "    c.execute(f\"INSERT INTO masks VALUES ('{city}', {count}, '{t}')\")\n",
        "    conn.commit()\n",
        "\n",
        "# 查詢資料\n",
        "c.execute(\"SELECT * FROM masks\")\n",
        "print(c.fetchall())\n",
        "\n",
        "conn.commit()\n",
        "conn.close()\n",
        "\n",
        ""
      ]
    }
  ]
}