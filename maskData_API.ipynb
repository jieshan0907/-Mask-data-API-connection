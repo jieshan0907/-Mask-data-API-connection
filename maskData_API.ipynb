{
  "nbformat": 4,
  "nbformat_minor": 0,
  "metadata": {
    "colab": {
      "provenance": [],
      "authorship_tag": "ABX9TyNpprgJSY8jAfNp2FVre+/n",
      "include_colab_link": true
    },
    "kernelspec": {
      "name": "python3",
      "display_name": "Python 3"
    },
    "language_info": {
      "name": "python"
    }
  },
  "cells": [
    {
      "cell_type": "markdown",
      "metadata": {
        "id": "view-in-github",
        "colab_type": "text"
      },
      "source": [
        "<a href=\"https://colab.research.google.com/github/jieshan0907/MaskDataAPIconnection/blob/main/maskData_API.ipynb\" target=\"_parent\"><img src=\"https://colab.research.google.com/assets/colab-badge.svg\" alt=\"Open In Colab\"/></a>"
      ]
    },
    {
      "cell_type": "code",
      "execution_count": 2,
      "metadata": {
        "colab": {
          "base_uri": "https://localhost:8080/"
        },
        "id": "Os-wdX1-4ECD",
        "outputId": "da35d0df-64b5-458c-cc19-ee5e937e4fde"
      },
      "outputs": [
        {
          "output_type": "stream",
          "name": "stdout",
          "text": [
            "INSERT INTO pharmacies VALUES ('臺北市', 339, '2024-05-02 21:46:05.352075')\n",
            "INSERT INTO pharmacies VALUES ('', 49, '2024-05-02 21:46:05.374821')\n",
            "INSERT INTO pharmacies VALUES ('高雄市', 422, '2024-05-02 21:46:05.383579')\n",
            "INSERT INTO pharmacies VALUES ('臺中市', 420, '2024-05-02 21:46:05.394052')\n",
            "INSERT INTO pharmacies VALUES ('臺南市', 271, '2024-05-02 21:46:05.402734')\n",
            "INSERT INTO pharmacies VALUES ('基隆市', 57, '2024-05-02 21:46:05.412289')\n",
            "INSERT INTO pharmacies VALUES ('新竹市', 39, '2024-05-02 21:46:05.423250')\n",
            "INSERT INTO pharmacies VALUES ('嘉義市', 67, '2024-05-02 21:46:05.431461')\n",
            "INSERT INTO pharmacies VALUES ('新北市', 501, '2024-05-02 21:46:05.440218')\n",
            "INSERT INTO pharmacies VALUES ('桃園市', 264, '2024-05-02 21:46:05.449447')\n",
            "INSERT INTO pharmacies VALUES ('新竹縣', 46, '2024-05-02 21:46:05.458994')\n",
            "INSERT INTO pharmacies VALUES ('宜蘭縣', 76, '2024-05-02 21:46:05.470062')\n",
            "INSERT INTO pharmacies VALUES ('苗栗縣', 56, '2024-05-02 21:46:05.479099')\n",
            "INSERT INTO pharmacies VALUES ('彰化縣', 179, '2024-05-02 21:46:05.487335')\n",
            "INSERT INTO pharmacies VALUES ('南投縣', 67, '2024-05-02 21:46:05.497336')\n",
            "INSERT INTO pharmacies VALUES ('雲林縣', 129, '2024-05-02 21:46:05.506331')\n",
            "INSERT INTO pharmacies VALUES ('嘉義縣', 84, '2024-05-02 21:46:05.516588')\n",
            "INSERT INTO pharmacies VALUES ('屏東縣', 140, '2024-05-02 21:46:05.526981')\n",
            "INSERT INTO pharmacies VALUES ('澎湖縣', 11, '2024-05-02 21:46:05.536701')\n",
            "INSERT INTO pharmacies VALUES ('花蓮縣', 46, '2024-05-02 21:46:05.545698')\n",
            "INSERT INTO pharmacies VALUES ('臺東縣', 23, '2024-05-02 21:46:05.554487')\n",
            "INSERT INTO pharmacies VALUES ('金門縣', 6, '2024-05-02 21:46:05.565117')\n",
            "INSERT INTO pharmacies VALUES ('連江縣', 1, '2024-05-02 21:46:05.575214')\n",
            "[('臺北市', '339', '2024-05-02 21:46:05.352075'), ('', '49', '2024-05-02 21:46:05.374821'), ('高雄市', '422', '2024-05-02 21:46:05.383579'), ('臺中市', '420', '2024-05-02 21:46:05.394052'), ('臺南市', '271', '2024-05-02 21:46:05.402734'), ('基隆市', '57', '2024-05-02 21:46:05.412289'), ('新竹市', '39', '2024-05-02 21:46:05.423250'), ('嘉義市', '67', '2024-05-02 21:46:05.431461'), ('新北市', '501', '2024-05-02 21:46:05.440218'), ('桃園市', '264', '2024-05-02 21:46:05.449447'), ('新竹縣', '46', '2024-05-02 21:46:05.458994'), ('宜蘭縣', '76', '2024-05-02 21:46:05.470062'), ('苗栗縣', '56', '2024-05-02 21:46:05.479099'), ('彰化縣', '179', '2024-05-02 21:46:05.487335'), ('南投縣', '67', '2024-05-02 21:46:05.497336'), ('雲林縣', '129', '2024-05-02 21:46:05.506331'), ('嘉義縣', '84', '2024-05-02 21:46:05.516588'), ('屏東縣', '140', '2024-05-02 21:46:05.526981'), ('澎湖縣', '11', '2024-05-02 21:46:05.536701'), ('花蓮縣', '46', '2024-05-02 21:46:05.545698'), ('臺東縣', '23', '2024-05-02 21:46:05.554487'), ('金門縣', '6', '2024-05-02 21:46:05.565117'), ('連江縣', '1', '2024-05-02 21:46:05.575214')]\n"
          ]
        }
      ],
      "source": [
        "# -*- coding: utf-8 -*-\n",
        "\"\"\"\n",
        "Created on Fri May  3 04:04:24 2024\n",
        "\n",
        "@author: s9513\n",
        "\"\"\"\n",
        "\n",
        "import sqlite3\n",
        "import datetime\n",
        "import requests\n",
        "import json\n",
        "\n",
        "conn = sqlite3.connect('example.db')\n",
        "c = conn.cursor()\n",
        "# 新增且清空資料表\n",
        "c.execute('''CREATE TABLE IF NOT EXISTS pharmacies\n",
        "          (city text, count text, createdAt datetime)\n",
        "          ''')\n",
        "c.execute('''DELETE FROM pharmacies''')\n",
        "conn.commit()\n",
        "\n",
        "# 新增資料\n",
        "url = 'https://raw.githubusercontent.com/kiang/pharmacies/master/json/points.json'\n",
        "response = requests.get(url)\n",
        "d = response.text\n",
        "data = json.loads(d)\n",
        "\n",
        "med_count = {}\n",
        "\n",
        "# 填入欄位名稱\n",
        "for d in data['features']:\n",
        "    county = d['properties']['county']\n",
        "    if county not in med_count:\n",
        "        med_count[county] = 0\n",
        "    med_count[county] += 1\n",
        "\n",
        "for d in med_count:\n",
        "    city = d\n",
        "    counts = med_count[d]\n",
        "    t = datetime.datetime.now()\n",
        "    print(f\"INSERT INTO pharmacies VALUES ('{city}', {counts}, '{t}')\")\n",
        "    c.execute(f\"INSERT INTO pharmacies VALUES ('{city}', {counts}, '{t}')\")\n",
        "    conn.commit()\n",
        "\n",
        "# 查詢資料\n",
        "c.execute(\"SELECT * FROM pharmacies\")\n",
        "print(c.fetchall())\n",
        "\n",
        "conn.commit()\n",
        "conn.close()\n",
        "\n",
        "\n",
        ""
      ]
    }
  ]
}