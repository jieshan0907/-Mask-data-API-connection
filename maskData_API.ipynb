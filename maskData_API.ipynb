{
  "nbformat": 4,
  "nbformat_minor": 0,
  "metadata": {
    "colab": {
      "provenance": [],
      "authorship_tag": "ABX9TyOhkoaVtg+IlEKyzepOUfa7",
      "include_colab_link": true
    },
    "kernelspec": {
      "name": "python3",
      "display_name": "Python 3"
    },
    "language_info": {
      "name": "python"
    }
  },
  "cells": [
    {
      "cell_type": "markdown",
      "metadata": {
        "id": "view-in-github",
        "colab_type": "text"
      },
      "source": [
        "<a href=\"https://colab.research.google.com/github/jieshan0907/MaskDataAPIconnection/blob/main/maskData_API.ipynb\" target=\"_parent\"><img src=\"https://colab.research.google.com/assets/colab-badge.svg\" alt=\"Open In Colab\"/></a>"
      ]
    },
    {
      "cell_type": "code",
      "execution_count": 1,
      "metadata": {
        "colab": {
          "base_uri": "https://localhost:8080/"
        },
        "id": "Os-wdX1-4ECD",
        "outputId": "29c2e6f1-4708-4ce4-a3bb-290f42782d06"
      },
      "outputs": [
        {
          "output_type": "stream",
          "name": "stdout",
          "text": [
            "INSERT INTO pharmacies VALUES ('新北市', 670270, '2024-05-02 21:29:54.379101')\n",
            "INSERT INTO pharmacies VALUES ('臺中市', 536710, '2024-05-02 21:29:54.408892')\n",
            "INSERT INTO pharmacies VALUES ('高雄市', 424170, '2024-05-02 21:29:54.419524')\n",
            "INSERT INTO pharmacies VALUES ('臺南市', 393900, '2024-05-02 21:29:54.428418')\n",
            "INSERT INTO pharmacies VALUES ('桃園市', 331940, '2024-05-02 21:29:54.442273')\n",
            "INSERT INTO pharmacies VALUES ('臺北市', 322490, '2024-05-02 21:29:54.455913')\n",
            "INSERT INTO pharmacies VALUES ('彰化縣', 219400, '2024-05-02 21:29:54.469797')\n",
            "INSERT INTO pharmacies VALUES ('雲林縣', 196990, '2024-05-02 21:29:54.483830')\n",
            "INSERT INTO pharmacies VALUES ('屏東縣', 184250, '2024-05-02 21:29:54.499782')\n",
            "INSERT INTO pharmacies VALUES ('苗栗縣', 131080, '2024-05-02 21:29:54.514640')\n",
            "INSERT INTO pharmacies VALUES ('嘉義縣', 113180, '2024-05-02 21:29:54.527931')\n",
            "INSERT INTO pharmacies VALUES ('嘉義市', 107840, '2024-05-02 21:29:54.542086')\n",
            "INSERT INTO pharmacies VALUES ('宜蘭縣', 106900, '2024-05-02 21:29:54.556118')\n",
            "INSERT INTO pharmacies VALUES ('南投縣', 91240, '2024-05-02 21:29:54.569769')\n",
            "INSERT INTO pharmacies VALUES ('基隆市', 80100, '2024-05-02 21:29:54.586234')\n",
            "INSERT INTO pharmacies VALUES ('', 69210, '2024-05-02 21:29:54.600080')\n",
            "INSERT INTO pharmacies VALUES ('花蓮縣', 57330, '2024-05-02 21:29:54.613875')\n",
            "INSERT INTO pharmacies VALUES ('新竹縣', 51350, '2024-05-02 21:29:54.622827')\n",
            "INSERT INTO pharmacies VALUES ('新竹市', 45630, '2024-05-02 21:29:54.635616')\n",
            "INSERT INTO pharmacies VALUES ('臺東縣', 28510, '2024-05-02 21:29:54.648182')\n",
            "INSERT INTO pharmacies VALUES ('金門縣', 15510, '2024-05-02 21:29:54.656979')\n",
            "INSERT INTO pharmacies VALUES ('澎湖縣', 12600, '2024-05-02 21:29:54.669407')\n",
            "INSERT INTO pharmacies VALUES ('連江縣', 7930, '2024-05-02 21:29:54.682852')\n",
            "[('新北市', '670270', '2024-05-02 21:29:54.379101'), ('臺中市', '536710', '2024-05-02 21:29:54.408892'), ('高雄市', '424170', '2024-05-02 21:29:54.419524'), ('臺南市', '393900', '2024-05-02 21:29:54.428418'), ('桃園市', '331940', '2024-05-02 21:29:54.442273'), ('臺北市', '322490', '2024-05-02 21:29:54.455913'), ('彰化縣', '219400', '2024-05-02 21:29:54.469797'), ('雲林縣', '196990', '2024-05-02 21:29:54.483830'), ('屏東縣', '184250', '2024-05-02 21:29:54.499782'), ('苗栗縣', '131080', '2024-05-02 21:29:54.514640'), ('嘉義縣', '113180', '2024-05-02 21:29:54.527931'), ('嘉義市', '107840', '2024-05-02 21:29:54.542086'), ('宜蘭縣', '106900', '2024-05-02 21:29:54.556118'), ('南投縣', '91240', '2024-05-02 21:29:54.569769'), ('基隆市', '80100', '2024-05-02 21:29:54.586234'), ('', '69210', '2024-05-02 21:29:54.600080'), ('花蓮縣', '57330', '2024-05-02 21:29:54.613875'), ('新竹縣', '51350', '2024-05-02 21:29:54.622827'), ('新竹市', '45630', '2024-05-02 21:29:54.635616'), ('臺東縣', '28510', '2024-05-02 21:29:54.648182'), ('金門縣', '15510', '2024-05-02 21:29:54.656979'), ('澎湖縣', '12600', '2024-05-02 21:29:54.669407'), ('連江縣', '7930', '2024-05-02 21:29:54.682852')]\n"
          ]
        }
      ],
      "source": [
        "# -*- coding: utf-8 -*-\n",
        "\"\"\"\n",
        "Created on Fri May  3 04:04:24 2024\n",
        "\n",
        "@author: s9513\n",
        "\"\"\"\n",
        "\n",
        "import sqlite3\n",
        "import datetime\n",
        "import requests\n",
        "import json\n",
        "\n",
        "conn = sqlite3.connect('example.db')\n",
        "c = conn.cursor()\n",
        "# 新增且清空資料表\n",
        "c.execute('''CREATE TABLE IF NOT EXISTS pharmacies\n",
        "          (city text, count text, createdAt datetime)\n",
        "          ''')\n",
        "c.execute('''DELETE FROM pharmacies''')\n",
        "conn.commit()\n",
        "\n",
        "# 新增資料\n",
        "url = 'https://raw.githubusercontent.com/kiang/pharmacies/master/json/points.json'\n",
        "response = requests.get(url)\n",
        "d = response.text\n",
        "data = json.loads(d)\n",
        "\n",
        "mask_count = {}\n",
        "\n",
        "for d in data['features']:\n",
        "    county = d['properties']['county']\n",
        "    count = d['properties']['mask_adult']\n",
        "    if county not in mask_count:\n",
        "        mask_count[county] = 0\n",
        "    mask_count[county] += count\n",
        "\n",
        "mask_count = dict(sorted(mask_count.items(), key=lambda item: item[1]\n",
        "                        ,reverse = True))\n",
        "\n",
        "for d in mask_count:\n",
        "    city = d\n",
        "    counts = mask_count[d]\n",
        "    t = datetime.datetime.now()\n",
        "    print(f\"INSERT INTO pharmacies VALUES ('{city}', {counts}, '{t}')\")\n",
        "    c.execute(f\"INSERT INTO pharmacies VALUES ('{city}', {counts}, '{t}')\")\n",
        "    conn.commit()\n",
        "\n",
        "# 查詢資料\n",
        "c.execute(\"SELECT * FROM pharmacies\")\n",
        "print(c.fetchall())\n",
        "\n",
        "conn.commit()\n",
        "conn.close()\n",
        "\n",
        "\n",
        "\n",
        "\n",
        ""
      ]
    }
  ]
}